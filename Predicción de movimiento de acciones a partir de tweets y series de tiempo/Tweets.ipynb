{
  "nbformat": 4,
  "nbformat_minor": 0,
  "metadata": {
    "colab": {
      "name": "Tweets.ipynb",
      "provenance": [],
      "collapsed_sections": []
    },
    "kernelspec": {
      "name": "python3",
      "display_name": "Python 3"
    }
  },
  "cells": [
    {
      "cell_type": "markdown",
      "metadata": {
        "id": "QwIjUiO6PVhZ"
      },
      "source": [
        "# <center>2) Tweets<center>\r\n",
        "### <center>Uc Kantun Orlando de Jesus, Cortés Montes Enrique Eduardo <center>\r\n",
        "#### <center>Stock Movement Prediction from Tweets and Historical Prices<center>"
      ]
    },
    {
      "cell_type": "markdown",
      "metadata": {
        "id": "MSE9ledydW7_"
      },
      "source": [
        "Se clasifican los tweets con sus respectivos targets y se crea una tabla."
      ]
    },
    {
      "cell_type": "code",
      "metadata": {
        "colab": {
          "base_uri": "https://localhost:8080/"
        },
        "id": "BjkwmHr0aG7T",
        "outputId": "d21c0645-6225-4dd0-93d7-73409d2e548e"
      },
      "source": [
        "from google.colab import drive\r\n",
        "drive.mount(\"/content/gdrive\")"
      ],
      "execution_count": 2,
      "outputs": [
        {
          "output_type": "stream",
          "text": [
            "Mounted at /content/gdrive\n"
          ],
          "name": "stdout"
        }
      ]
    },
    {
      "cell_type": "code",
      "metadata": {
        "id": "D1P7WUzHadF3"
      },
      "source": [
        "# Librerias\r\n",
        "import os\r\n",
        "import pandas as pd\r\n",
        "import numpy as np\r\n",
        "import json"
      ],
      "execution_count": 3,
      "outputs": []
    },
    {
      "cell_type": "code",
      "metadata": {
        "id": "9uEvHjzeai-6"
      },
      "source": [
        "# path\r\n",
        "direction_tweets=\"/content/gdrive/MyDrive/Proyecto_CD2/tweets/\""
      ],
      "execution_count": 4,
      "outputs": []
    },
    {
      "cell_type": "code",
      "metadata": {
        "id": "F154892CuW2v"
      },
      "source": [
        "# Funcion que pone las categorias con fechas y el nombre de la empresa \r\n",
        "# a cada tweet\r\n",
        "def text_and_categories(cat_dir):\r\n",
        "  dat = []\r\n",
        "  data_dir = cat_dir\r\n",
        "  category_index = {}\r\n",
        "  categories = []\r\n",
        "  id=[]\r\n",
        "  for i in os.listdir(data_dir):\r\n",
        "    k=data_dir+\"{}\".format(i)\r\n",
        "    for j in os.listdir(k):    \r\n",
        "      with open (k+\"/{}\".format(j), 'r') as f:\r\n",
        "        for l in f.readlines():\r\n",
        "          if not l.strip ():\r\n",
        "            continue\r\n",
        "          json_data = json.loads (l)\r\n",
        "          dat.append(json_data)\r\n",
        "          categories.append(i)\r\n",
        "          id.append(j)\r\n",
        "\r\n",
        "  return categories, id,dat"
      ],
      "execution_count": 5,
      "outputs": []
    },
    {
      "cell_type": "code",
      "metadata": {
        "id": "8gxVWxr9eDml"
      },
      "source": [
        "# Se corre la función\r\n",
        "Q,y,u=text_and_categories(direction_tweets)"
      ],
      "execution_count": 6,
      "outputs": []
    },
    {
      "cell_type": "code",
      "metadata": {
        "id": "ovxUeea6I9aU"
      },
      "source": [
        "# Se toman solo los textos\r\n",
        "e=[]\r\n",
        "for i in range(len(u)):\r\n",
        "  e.append(u[i][\"text\"])"
      ],
      "execution_count": 7,
      "outputs": []
    },
    {
      "cell_type": "code",
      "metadata": {
        "id": "HHtmUqZdJGe3"
      },
      "source": [
        "# Se realiza un dataframe con el \"Company\",\"Date\" y el \"text\"\r\n",
        "S=pd.DataFrame({ \"Company\":Q,\r\n",
        "                \"Date\":y,\r\n",
        "                \"Text\":e\r\n",
        "    \r\n",
        "})"
      ],
      "execution_count": 8,
      "outputs": []
    },
    {
      "cell_type": "code",
      "metadata": {
        "id": "gnGIPSRbMWkz"
      },
      "source": [
        "# El dataframe se gurda en un archivo .csv\r\n",
        "import csv\r\n",
        "S.to_csv(\"/content/gdrive/MyDrive/Proyecto_CD2/\"+\"Tweets_y.csv\")"
      ],
      "execution_count": 9,
      "outputs": []
    },
    {
      "cell_type": "code",
      "metadata": {
        "id": "daY5Ig2NFrvR"
      },
      "source": [
        "# Extrayendo las tablas de nuestro drive\r\n",
        "Indicador=pd.read_csv(\"/content/gdrive/MyDrive/Proyecto_CD2/Indicador.csv\")\r\n",
        "Tweets=pd.read_csv(\"/content/gdrive/MyDrive/Proyecto_CD2/Tweets_y.csv\")"
      ],
      "execution_count": 10,
      "outputs": []
    },
    {
      "cell_type": "code",
      "metadata": {
        "colab": {
          "base_uri": "https://localhost:8080/",
          "height": 198
        },
        "id": "sA3V1-JvGVHG",
        "outputId": "f093a60e-f561-443a-954b-9a6bd4407795"
      },
      "source": [
        "Indicador.head()"
      ],
      "execution_count": 11,
      "outputs": [
        {
          "output_type": "execute_result",
          "data": {
            "text/html": [
              "<div>\n",
              "<style scoped>\n",
              "    .dataframe tbody tr th:only-of-type {\n",
              "        vertical-align: middle;\n",
              "    }\n",
              "\n",
              "    .dataframe tbody tr th {\n",
              "        vertical-align: top;\n",
              "    }\n",
              "\n",
              "    .dataframe thead th {\n",
              "        text-align: right;\n",
              "    }\n",
              "</style>\n",
              "<table border=\"1\" class=\"dataframe\">\n",
              "  <thead>\n",
              "    <tr style=\"text-align: right;\">\n",
              "      <th></th>\n",
              "      <th>Unnamed: 0</th>\n",
              "      <th>Unnamed: 0.1</th>\n",
              "      <th>Date</th>\n",
              "      <th>Company</th>\n",
              "      <th>y</th>\n",
              "    </tr>\n",
              "  </thead>\n",
              "  <tbody>\n",
              "    <tr>\n",
              "      <th>0</th>\n",
              "      <td>0</td>\n",
              "      <td>1256</td>\n",
              "      <td>2012-09-05</td>\n",
              "      <td>-</td>\n",
              "      <td>-</td>\n",
              "    </tr>\n",
              "    <tr>\n",
              "      <th>1</th>\n",
              "      <td>1</td>\n",
              "      <td>1255</td>\n",
              "      <td>2012-09-06</td>\n",
              "      <td>DUK</td>\n",
              "      <td>1</td>\n",
              "    </tr>\n",
              "    <tr>\n",
              "      <th>2</th>\n",
              "      <td>2</td>\n",
              "      <td>1254</td>\n",
              "      <td>2012-09-07</td>\n",
              "      <td>DUK</td>\n",
              "      <td>0</td>\n",
              "    </tr>\n",
              "    <tr>\n",
              "      <th>3</th>\n",
              "      <td>3</td>\n",
              "      <td>1253</td>\n",
              "      <td>2012-09-10</td>\n",
              "      <td>DUK</td>\n",
              "      <td>1</td>\n",
              "    </tr>\n",
              "    <tr>\n",
              "      <th>4</th>\n",
              "      <td>4</td>\n",
              "      <td>1252</td>\n",
              "      <td>2012-09-11</td>\n",
              "      <td>DUK</td>\n",
              "      <td>0</td>\n",
              "    </tr>\n",
              "  </tbody>\n",
              "</table>\n",
              "</div>"
            ],
            "text/plain": [
              "   Unnamed: 0  Unnamed: 0.1        Date Company  y\n",
              "0           0          1256  2012-09-05       -  -\n",
              "1           1          1255  2012-09-06     DUK  1\n",
              "2           2          1254  2012-09-07     DUK  0\n",
              "3           3          1253  2012-09-10     DUK  1\n",
              "4           4          1252  2012-09-11     DUK  0"
            ]
          },
          "metadata": {
            "tags": []
          },
          "execution_count": 11
        }
      ]
    },
    {
      "cell_type": "code",
      "metadata": {
        "colab": {
          "base_uri": "https://localhost:8080/",
          "height": 198
        },
        "id": "J0uxxtKBGXZ8",
        "outputId": "7c78577e-adcd-485f-d42c-b977887bd9a2"
      },
      "source": [
        "Tweets.head()"
      ],
      "execution_count": 12,
      "outputs": [
        {
          "output_type": "execute_result",
          "data": {
            "text/html": [
              "<div>\n",
              "<style scoped>\n",
              "    .dataframe tbody tr th:only-of-type {\n",
              "        vertical-align: middle;\n",
              "    }\n",
              "\n",
              "    .dataframe tbody tr th {\n",
              "        vertical-align: top;\n",
              "    }\n",
              "\n",
              "    .dataframe thead th {\n",
              "        text-align: right;\n",
              "    }\n",
              "</style>\n",
              "<table border=\"1\" class=\"dataframe\">\n",
              "  <thead>\n",
              "    <tr style=\"text-align: right;\">\n",
              "      <th></th>\n",
              "      <th>Unnamed: 0</th>\n",
              "      <th>Company</th>\n",
              "      <th>Date</th>\n",
              "      <th>Text</th>\n",
              "    </tr>\n",
              "  </thead>\n",
              "  <tbody>\n",
              "    <tr>\n",
              "      <th>0</th>\n",
              "      <td>0</td>\n",
              "      <td>BBL</td>\n",
              "      <td>2014-09-05</td>\n",
              "      <td>['rt', 'AT_USER', '5', 'safe', 'large', 'cap',...</td>\n",
              "    </tr>\n",
              "    <tr>\n",
              "      <th>1</th>\n",
              "      <td>1</td>\n",
              "      <td>BBL</td>\n",
              "      <td>2014-03-17</td>\n",
              "      <td>['$', 'bbl', '-', 'australian', 'shares', 'fal...</td>\n",
              "    </tr>\n",
              "    <tr>\n",
              "      <th>2</th>\n",
              "      <td>2</td>\n",
              "      <td>BBL</td>\n",
              "      <td>2014-03-31</td>\n",
              "      <td>['$', 'bbl', 'asian', 'shares', 'mixed', 'as',...</td>\n",
              "    </tr>\n",
              "    <tr>\n",
              "      <th>3</th>\n",
              "      <td>3</td>\n",
              "      <td>BBL</td>\n",
              "      <td>2014-04-29</td>\n",
              "      <td>['$', 'bbl', 'asian', 'shares', 'mixed', ';', ...</td>\n",
              "    </tr>\n",
              "    <tr>\n",
              "      <th>4</th>\n",
              "      <td>4</td>\n",
              "      <td>BBL</td>\n",
              "      <td>2014-04-25</td>\n",
              "      <td>['$', 'bbl', 'utilities', 'feel', 'pressure', ...</td>\n",
              "    </tr>\n",
              "  </tbody>\n",
              "</table>\n",
              "</div>"
            ],
            "text/plain": [
              "   Unnamed: 0  ...                                               Text\n",
              "0           0  ...  ['rt', 'AT_USER', '5', 'safe', 'large', 'cap',...\n",
              "1           1  ...  ['$', 'bbl', '-', 'australian', 'shares', 'fal...\n",
              "2           2  ...  ['$', 'bbl', 'asian', 'shares', 'mixed', 'as',...\n",
              "3           3  ...  ['$', 'bbl', 'asian', 'shares', 'mixed', ';', ...\n",
              "4           4  ...  ['$', 'bbl', 'utilities', 'feel', 'pressure', ...\n",
              "\n",
              "[5 rows x 4 columns]"
            ]
          },
          "metadata": {
            "tags": []
          },
          "execution_count": 12
        }
      ]
    },
    {
      "cell_type": "code",
      "metadata": {
        "colab": {
          "base_uri": "https://localhost:8080/",
          "height": 198
        },
        "id": "_iTcgJaSWH3e",
        "outputId": "ad0f3694-88a5-485e-a371-dd59daa604d1"
      },
      "source": [
        "# Uninendo las tablas en donde deben de coincidir tanto la \r\n",
        "# companhia como la fecha y su respectivo target y\r\n",
        "result = pd.merge(Tweets,\r\n",
        "                 Indicador[[\"Date\",\"Company\",\"y\"]],\r\n",
        "                 on=['Date',\"Company\"])\r\n"
      ],
      "execution_count": 13,
      "outputs": [
        {
          "output_type": "execute_result",
          "data": {
            "text/html": [
              "<div>\n",
              "<style scoped>\n",
              "    .dataframe tbody tr th:only-of-type {\n",
              "        vertical-align: middle;\n",
              "    }\n",
              "\n",
              "    .dataframe tbody tr th {\n",
              "        vertical-align: top;\n",
              "    }\n",
              "\n",
              "    .dataframe thead th {\n",
              "        text-align: right;\n",
              "    }\n",
              "</style>\n",
              "<table border=\"1\" class=\"dataframe\">\n",
              "  <thead>\n",
              "    <tr style=\"text-align: right;\">\n",
              "      <th></th>\n",
              "      <th>Unnamed: 0</th>\n",
              "      <th>Company</th>\n",
              "      <th>Date</th>\n",
              "      <th>Text</th>\n",
              "      <th>y</th>\n",
              "    </tr>\n",
              "  </thead>\n",
              "  <tbody>\n",
              "    <tr>\n",
              "      <th>0</th>\n",
              "      <td>0</td>\n",
              "      <td>BBL</td>\n",
              "      <td>2014-09-05</td>\n",
              "      <td>['rt', 'AT_USER', '5', 'safe', 'large', 'cap',...</td>\n",
              "      <td>1</td>\n",
              "    </tr>\n",
              "    <tr>\n",
              "      <th>1</th>\n",
              "      <td>1</td>\n",
              "      <td>BBL</td>\n",
              "      <td>2014-03-17</td>\n",
              "      <td>['$', 'bbl', '-', 'australian', 'shares', 'fal...</td>\n",
              "      <td>1</td>\n",
              "    </tr>\n",
              "    <tr>\n",
              "      <th>2</th>\n",
              "      <td>2</td>\n",
              "      <td>BBL</td>\n",
              "      <td>2014-03-31</td>\n",
              "      <td>['$', 'bbl', 'asian', 'shares', 'mixed', 'as',...</td>\n",
              "      <td>0</td>\n",
              "    </tr>\n",
              "    <tr>\n",
              "      <th>3</th>\n",
              "      <td>3</td>\n",
              "      <td>BBL</td>\n",
              "      <td>2014-04-29</td>\n",
              "      <td>['$', 'bbl', 'asian', 'shares', 'mixed', ';', ...</td>\n",
              "      <td>1</td>\n",
              "    </tr>\n",
              "    <tr>\n",
              "      <th>4</th>\n",
              "      <td>4</td>\n",
              "      <td>BBL</td>\n",
              "      <td>2014-04-25</td>\n",
              "      <td>['$', 'bbl', 'utilities', 'feel', 'pressure', ...</td>\n",
              "      <td>0</td>\n",
              "    </tr>\n",
              "  </tbody>\n",
              "</table>\n",
              "</div>"
            ],
            "text/plain": [
              "   Unnamed: 0 Company  ...                                               Text  y\n",
              "0           0     BBL  ...  ['rt', 'AT_USER', '5', 'safe', 'large', 'cap',...  1\n",
              "1           1     BBL  ...  ['$', 'bbl', '-', 'australian', 'shares', 'fal...  1\n",
              "2           2     BBL  ...  ['$', 'bbl', 'asian', 'shares', 'mixed', 'as',...  0\n",
              "3           3     BBL  ...  ['$', 'bbl', 'asian', 'shares', 'mixed', ';', ...  1\n",
              "4           4     BBL  ...  ['$', 'bbl', 'utilities', 'feel', 'pressure', ...  0\n",
              "\n",
              "[5 rows x 5 columns]"
            ]
          },
          "metadata": {
            "tags": []
          },
          "execution_count": 13
        }
      ]
    },
    {
      "cell_type": "code",
      "metadata": {
        "id": "OBuAedUTOwhu"
      },
      "source": [
        "# El resulatdo del dataframe se guarda en un archivo .csv\r\n",
        "# para poder usarlo posteriormente\r\n",
        "result.to_csv(\"/content/gdrive/MyDrive/Proyecto_CD2/resultado.csv\")"
      ],
      "execution_count": 15,
      "outputs": []
    }
  ]
}