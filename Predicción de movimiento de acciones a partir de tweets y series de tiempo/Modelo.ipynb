{
  "nbformat": 4,
  "nbformat_minor": 0,
  "metadata": {
    "colab": {
      "name": "Modelo.ipynb",
      "provenance": [],
      "collapsed_sections": []
    },
    "kernelspec": {
      "name": "python3",
      "display_name": "Python 3"
    },
    "accelerator": "GPU"
  },
  "cells": [
    {
      "cell_type": "markdown",
      "metadata": {
        "id": "7DjTxTb9NJ8d"
      },
      "source": [
        "# <center>3) Modelo<center>\r\n",
        "### <center>Uc Kantun Orlando de Jesus, Cortés Montes Enrique Eduardo <center>\r\n",
        "#### <center>Stock Movement Prediction from Tweets and Historical Prices<center>"
      ]
    },
    {
      "cell_type": "markdown",
      "metadata": {
        "id": "BN8iaTKldC_9"
      },
      "source": [
        "Lo que se va a realizar son comparaciones de diferentes modelos, en especial el del paper."
      ]
    },
    {
      "cell_type": "code",
      "metadata": {
        "id": "ufK2uOSjUV0X"
      },
      "source": [
        "# Importando las librerías\r\n",
        "import pandas as pd\r\n",
        "import numpy as np"
      ],
      "execution_count": 1,
      "outputs": []
    },
    {
      "cell_type": "code",
      "metadata": {
        "colab": {
          "base_uri": "https://localhost:8080/"
        },
        "id": "eCXH95atUEoC",
        "outputId": "801874ec-da73-48e2-eebf-5128f48449b1"
      },
      "source": [
        "from google.colab import drive\r\n",
        "drive.mount(\"/content/gdrive\")"
      ],
      "execution_count": 2,
      "outputs": [
        {
          "output_type": "stream",
          "text": [
            "Mounted at /content/gdrive\n"
          ],
          "name": "stdout"
        }
      ]
    },
    {
      "cell_type": "code",
      "metadata": {
        "id": "B7p7-4hsUMwZ"
      },
      "source": [
        "# Cargando la tabla final (resultado.csv)\r\n",
        "resultado=pd.read_csv(\"/content/gdrive/MyDrive/Proyecto_CD2/resultado.csv\")"
      ],
      "execution_count": 3,
      "outputs": []
    },
    {
      "cell_type": "code",
      "metadata": {
        "id": "oeWV0BpvUw1r"
      },
      "source": [
        "# Tomando sólamente las columnas de interés\r\n",
        "resultado=resultado[['Company', 'Date', 'Text', 'y']]"
      ],
      "execution_count": 4,
      "outputs": []
    },
    {
      "cell_type": "code",
      "metadata": {
        "colab": {
          "base_uri": "https://localhost:8080/",
          "height": 198
        },
        "id": "TEZFwJfmUiZ-",
        "outputId": "df4ce666-ce4b-4049-f5a0-9c3ce744d941"
      },
      "source": [
        "# Poniendo de forma ascendente las fechas\r\n",
        "resultado=resultado.sort_values(by=\"Date\",ascending=True)\r\n",
        "resultado.head()"
      ],
      "execution_count": 5,
      "outputs": [
        {
          "output_type": "execute_result",
          "data": {
            "text/html": [
              "<div>\n",
              "<style scoped>\n",
              "    .dataframe tbody tr th:only-of-type {\n",
              "        vertical-align: middle;\n",
              "    }\n",
              "\n",
              "    .dataframe tbody tr th {\n",
              "        vertical-align: top;\n",
              "    }\n",
              "\n",
              "    .dataframe thead th {\n",
              "        text-align: right;\n",
              "    }\n",
              "</style>\n",
              "<table border=\"1\" class=\"dataframe\">\n",
              "  <thead>\n",
              "    <tr style=\"text-align: right;\">\n",
              "      <th></th>\n",
              "      <th>Company</th>\n",
              "      <th>Date</th>\n",
              "      <th>Text</th>\n",
              "      <th>y</th>\n",
              "    </tr>\n",
              "  </thead>\n",
              "  <tbody>\n",
              "    <tr>\n",
              "      <th>64867</th>\n",
              "      <td>UNH</td>\n",
              "      <td>2014-01-02</td>\n",
              "      <td>['$', 'unh', \"stock's\", 'trend', 'analysis', '...</td>\n",
              "      <td>0</td>\n",
              "    </tr>\n",
              "    <tr>\n",
              "      <th>82441</th>\n",
              "      <td>AAPL</td>\n",
              "      <td>2014-01-02</td>\n",
              "      <td>['AT_USER', '$', 'aapl', 'having', 'breathing'...</td>\n",
              "      <td>0</td>\n",
              "    </tr>\n",
              "    <tr>\n",
              "      <th>82442</th>\n",
              "      <td>AAPL</td>\n",
              "      <td>2014-01-02</td>\n",
              "      <td>['emylers', ':', \"cheeky's\", 'board', '!', ':'...</td>\n",
              "      <td>0</td>\n",
              "    </tr>\n",
              "    <tr>\n",
              "      <th>40607</th>\n",
              "      <td>GOOG</td>\n",
              "      <td>2014-01-02</td>\n",
              "      <td>['trade', 'signals', 'generated', 'from', 'the...</td>\n",
              "      <td>0</td>\n",
              "    </tr>\n",
              "    <tr>\n",
              "      <th>40608</th>\n",
              "      <td>GOOG</td>\n",
              "      <td>2014-01-02</td>\n",
              "      <td>['$', 'goog', '-', 'apple', 'can', 'unlock', '...</td>\n",
              "      <td>0</td>\n",
              "    </tr>\n",
              "  </tbody>\n",
              "</table>\n",
              "</div>"
            ],
            "text/plain": [
              "      Company        Date                                               Text  y\n",
              "64867     UNH  2014-01-02  ['$', 'unh', \"stock's\", 'trend', 'analysis', '...  0\n",
              "82441    AAPL  2014-01-02  ['AT_USER', '$', 'aapl', 'having', 'breathing'...  0\n",
              "82442    AAPL  2014-01-02  ['emylers', ':', \"cheeky's\", 'board', '!', ':'...  0\n",
              "40607    GOOG  2014-01-02  ['trade', 'signals', 'generated', 'from', 'the...  0\n",
              "40608    GOOG  2014-01-02  ['$', 'goog', '-', 'apple', 'can', 'unlock', '...  0"
            ]
          },
          "metadata": {
            "tags": []
          },
          "execution_count": 5
        }
      ]
    },
    {
      "cell_type": "code",
      "metadata": {
        "id": "5pxypddIVMHH"
      },
      "source": [
        "# Tomando los datos \r\n",
        "X=resultado.iloc[:,:3] # Las primeras 3 columnas\r\n",
        "y=resultado.iloc[:,-1] # La última columna  , es decir, el target"
      ],
      "execution_count": 6,
      "outputs": []
    },
    {
      "cell_type": "code",
      "metadata": {
        "id": "Cc9c_9mqlYQO"
      },
      "source": [
        "# Separando las palabras de nuestros tweets\r\n",
        "from shlex import split\r\n",
        "m=X[\"Text\"].shape[0]\r\n",
        "data=[]\r\n",
        "for i in range(m):\r\n",
        "  h= X[\"Text\"][i]\r\n",
        "  data.append(h.split())"
      ],
      "execution_count": 7,
      "outputs": []
    },
    {
      "cell_type": "code",
      "metadata": {
        "id": "v9BNvvyUXOzk"
      },
      "source": [
        "from keras.preprocessing.text import Tokenizer\r\n",
        "from keras.preprocessing.sequence import pad_sequences\r\n",
        "\r\n",
        "# Contruir tokenizador y vocabulario\r\n",
        "n_words = 200\r\n",
        "maxlen=150 #se corta despues de las 150 palabras\r\n",
        "#Tok train\r\n",
        "tokenizer = Tokenizer(num_words=n_words) # el Tokenizador solo tomará las 'n_words' palabras más frecuentes \r\n",
        "tokenizer.fit_on_texts(data)\r\n",
        "sequences_tr=tokenizer.texts_to_sequences(data)\r\n"
      ],
      "execution_count": 8,
      "outputs": []
    },
    {
      "cell_type": "code",
      "metadata": {
        "colab": {
          "base_uri": "https://localhost:8080/"
        },
        "id": "2_JdHYi30hL6",
        "outputId": "7f685b3c-bfe7-4cf6-883b-7e068ac622ff"
      },
      "source": [
        "# Calculando la longitud del mayor tweet\r\n",
        "numbers=[]\r\n",
        "for i in range(X[\"Text\"].shape[0]):\r\n",
        "  numbers.append(len(data[i]))\r\n",
        "\r\n",
        "max_length=max(numbers)\r\n",
        "max_length"
      ],
      "execution_count": 9,
      "outputs": [
        {
          "output_type": "execute_result",
          "data": {
            "text/plain": [
              "104"
            ]
          },
          "metadata": {
            "tags": []
          },
          "execution_count": 9
        }
      ]
    },
    {
      "cell_type": "code",
      "metadata": {
        "colab": {
          "base_uri": "https://localhost:8080/"
        },
        "id": "3QJTLZ8qXta-",
        "outputId": "9af58e9c-bcd7-4d50-a583-2f3b22da2350"
      },
      "source": [
        "# Haciendo el token y viendo el número de palabras del vocabulario\r\n",
        "tokenizer.fit_on_texts(data)\r\n",
        "word_index = tokenizer.word_index\r\n",
        "print('Found %s unique tokens.' % len(word_index))\r\n",
        "word_counts = tokenizer.word_counts"
      ],
      "execution_count": 11,
      "outputs": [
        {
          "output_type": "stream",
          "text": [
            "Found 59838 unique tokens.\n"
          ],
          "name": "stdout"
        }
      ]
    },
    {
      "cell_type": "code",
      "metadata": {
        "id": "XjV6VuJ0oR92"
      },
      "source": [
        "# Función que nos muestra las palabras más frecuentes\r\n",
        "import matplotlib.pyplot as plt\r\n",
        "A=list(set(word_index.keys()))\r\n",
        "def frecuencia(a,b,A):\r\n",
        "  count=0\r\n",
        "  lista=[]\r\n",
        "  for i in range(a,b):\r\n",
        "    lista.append([word_counts[A[i]],A[i]])\r\n",
        "  \r\n",
        "  lista.sort(reverse=True)\r\n",
        "\r\n",
        "  for i in range(5):\r\n",
        "    plt.scatter(lista[i][1],lista[i][0])\r\n",
        "  plt.show()\r\n",
        "\r\n",
        "  return lista[0:20]"
      ],
      "execution_count": 12,
      "outputs": []
    },
    {
      "cell_type": "code",
      "metadata": {
        "colab": {
          "base_uri": "https://localhost:8080/",
          "height": 593
        },
        "id": "6DhW5FYjoXWB",
        "outputId": "314d66ba-1a19-4933-c2b3-cd84c91227eb"
      },
      "source": [
        "# Visualiando las 20 palabras más frecuentes\r\n",
        "frecuencia(1,20,A)"
      ],
      "execution_count": 13,
      "outputs": [
        {
          "output_type": "display_data",
          "data": {
            "image/png": "[encoded data removed]",
            "text/plain": [
              "<Figure size 432x288 with 1 Axes>"
            ]
          },
          "metadata": {
            "tags": [],
            "needs_background": "light"
          }
        },
        {
          "output_type": "execute_result",
          "data": {
            "text/plain": [
              "[[40, \"'vggl',\"],\n",
              " [32, \"['ewz',\"],\n",
              " [24, \"'qgen',\"],\n",
              " [12, \"'lnn',\"],\n",
              " [10, \"'risperdal',\"],\n",
              " [10, \"'102.00',\"],\n",
              " [4, \"'substantially',\"],\n",
              " [4, \"'inician',\"],\n",
              " [4, \"'defeats',\"],\n",
              " [4, \"'5033.56',\"],\n",
              " [2, \"['geography',\"],\n",
              " [2, \"'istribution',\"],\n",
              " [2, \"'ee.uu',\"],\n",
              " [2, \"'avocados',\"],\n",
              " [2, \"'anti-discrimination',\"],\n",
              " [2, \"'acmp',\"],\n",
              " [2, \"'8.98',\"],\n",
              " [2, \"'64.73',\"],\n",
              " [2, \"'14:18',\"]]"
            ]
          },
          "metadata": {
            "tags": []
          },
          "execution_count": 13
        }
      ]
    },
    {
      "cell_type": "code",
      "metadata": {
        "id": "5cdYR00ipSdC"
      },
      "source": [
        "# Train y Test\r\n",
        "# Tomando el 80% de train y 20% de test\r\n",
        "num_tr=int(X[\"Text\"].shape[0]*0.8)\r\n",
        "num_te=int(X[\"Text\"].shape[0]*0.2)\r\n",
        "tr_txt, tr_y= X[\"Text\"][:num_tr],y[:num_tr]\r\n",
        "te_txt, te_y=X[\"Text\"][:num_te],y[:num_te]"
      ],
      "execution_count": 14,
      "outputs": []
    },
    {
      "cell_type": "code",
      "metadata": {
        "colab": {
          "base_uri": "https://localhost:8080/"
        },
        "id": "1dgtZSw0p5oB",
        "outputId": "7833202f-3bb3-421d-bcb4-0e35b057fdd8"
      },
      "source": [
        "# Haciendo el token en nuestra conjunto\r\n",
        "from keras.preprocessing.text import Tokenizer\r\n",
        "from keras.preprocessing.sequence import pad_sequences\r\n",
        "# Contruir tokenizador y vocabulario\r\n",
        "n_words = 200\r\n",
        "maxlen=100 #se corta despues de las 100 palabras\r\n",
        "#Tok train\r\n",
        "tokenizer = Tokenizer(num_words=n_words) # el Tokenizador solo tomará las 'n_words' palabras más frecuentes \r\n",
        "tokenizer.fit_on_texts(tr_txt)\r\n",
        "sequences_tr=tokenizer.texts_to_sequences(tr_txt)\r\n",
        "\r\n",
        "#Tok test\r\n",
        "tokenizer.fit_on_texts(te_txt)\r\n",
        "sequences_te=tokenizer.texts_to_sequences(te_txt)\r\n",
        "\r\n",
        "data_tr=pad_sequences(sequences_tr,maxlen=maxlen)\r\n",
        "data_te=pad_sequences(sequences_te,maxlen=maxlen)\r\n",
        "\r\n",
        "labels_tr=np.asarray(tr_y)\r\n",
        "labels_te=np.asarray(te_y)\r\n",
        "\r\n",
        "x_train=data_tr\r\n",
        "y_train=labels_tr\r\n",
        "\r\n",
        "x_test=data_te\r\n",
        "y_test=labels_te\r\n",
        "\r\n",
        "# word_index contiene un diccionario con el vocabulario y sus indices en orden ascendente de acuerdo a su frecuencia\r\n",
        "word_index = tokenizer.word_index\r\n",
        "print('Found %s unique tokens.' % len(word_index))\r\n",
        "word_counts = tokenizer.word_counts"
      ],
      "execution_count": 15,
      "outputs": [
        {
          "output_type": "stream",
          "text": [
            "Found 41598 unique tokens.\n"
          ],
          "name": "stdout"
        }
      ]
    },
    {
      "cell_type": "code",
      "metadata": {
        "id": "7r4RPBo1ogfU"
      },
      "source": [
        "# Cargando librerías para los modelos\r\n",
        "from sklearn import datasets\r\n",
        "import numpy as np\r\n",
        "from sklearn.pipeline import Pipeline\r\n",
        "from sklearn.preprocessing import StandardScaler\r\n",
        "from sklearn.svm import LinearSVC"
      ],
      "execution_count": 16,
      "outputs": []
    },
    {
      "cell_type": "markdown",
      "metadata": {
        "id": "yOGtYnRsWV4G"
      },
      "source": [
        "# Modelo 1 (SVM)"
      ]
    },
    {
      "cell_type": "code",
      "metadata": {
        "colab": {
          "base_uri": "https://localhost:8080/"
        },
        "id": "UuC77rGNqpPi",
        "outputId": "ba439709-74bc-4191-a74d-6a2c5e0ed8e9"
      },
      "source": [
        "\r\n",
        "# Realizando pruebas con el modelo SVM\r\n",
        "svm_clf=Pipeline([\r\n",
        "                  (\"scaler\",StandardScaler()),\r\n",
        "                  (\"linear_svc\",LinearSVC(C=1,loss=\"hinge\")),\r\n",
        "])\r\n",
        "\r\n",
        "svm_clf.fit(x_train,y_train)"
      ],
      "execution_count": 32,
      "outputs": [
        {
          "output_type": "stream",
          "text": [
            "/usr/local/lib/python3.6/dist-packages/sklearn/svm/_base.py:947: ConvergenceWarning: Liblinear failed to converge, increase the number of iterations.\n",
            "  \"the number of iterations.\", ConvergenceWarning)\n"
          ],
          "name": "stderr"
        },
        {
          "output_type": "execute_result",
          "data": {
            "text/plain": [
              "Pipeline(memory=None,\n",
              "         steps=[('scaler',\n",
              "                 StandardScaler(copy=True, with_mean=True, with_std=True)),\n",
              "                ('linear_svc',\n",
              "                 LinearSVC(C=1, class_weight=None, dual=True,\n",
              "                           fit_intercept=True, intercept_scaling=1,\n",
              "                           loss='hinge', max_iter=1000, multi_class='ovr',\n",
              "                           penalty='l2', random_state=None, tol=0.0001,\n",
              "                           verbose=0))],\n",
              "         verbose=False)"
            ]
          },
          "metadata": {
            "tags": []
          },
          "execution_count": 32
        }
      ]
    },
    {
      "cell_type": "code",
      "metadata": {
        "colab": {
          "base_uri": "https://localhost:8080/",
          "height": 265
        },
        "id": "cT_qvnr-qxPD",
        "outputId": "638b59d7-f873-4968-97d6-f789ad47f2bf"
      },
      "source": [
        "import matplotlib.pyplot as plt\r\n",
        "plt.scatter(x_train[:, 1], x_train[:, 2], c=y_train)\r\n",
        "plt.show()"
      ],
      "execution_count": 33,
      "outputs": [
        {
          "output_type": "display_data",
          "data": {
            "image/png": "[encoded data removed]",
            "text/plain": [
              "<Figure size 432x288 with 1 Axes>"
            ]
          },
          "metadata": {
            "tags": [],
            "needs_background": "light"
          }
        }
      ]
    },
    {
      "cell_type": "markdown",
      "metadata": {
        "id": "nmgQT5L8WfCz"
      },
      "source": [
        "## SCORE del Modelo 1"
      ]
    },
    {
      "cell_type": "code",
      "metadata": {
        "colab": {
          "base_uri": "https://localhost:8080/"
        },
        "id": "C8iNIRTJrEi3",
        "outputId": "7e9eb1f8-ccd5-4fd8-890b-5f276a10df00"
      },
      "source": [
        "# El score del modelo svm\r\n",
        "svm_clf.score(x_test,y_test)"
      ],
      "execution_count": 36,
      "outputs": [
        {
          "output_type": "execute_result",
          "data": {
            "text/plain": [
              "0.5180499129425421"
            ]
          },
          "metadata": {
            "tags": []
          },
          "execution_count": 36
        }
      ]
    },
    {
      "cell_type": "code",
      "metadata": {
        "colab": {
          "base_uri": "https://localhost:8080/",
          "height": 279
        },
        "id": "EysiE8AHrK2B",
        "outputId": "704dca2b-8813-4dec-a191-ee1d078c0337"
      },
      "source": [
        "# Los matriz de confusion\r\n",
        "from sklearn.metrics import plot_confusion_matrix\r\n",
        "#class_names = y_test.target_names\r\n",
        "plot_confusion_matrix(svm_clf, x_test, y_test,\r\n",
        "                                 cmap=plt.cm.Blues)  # doctest: +SKIP\r\n",
        "plt.show()  # doctest: +SKIP"
      ],
      "execution_count": 38,
      "outputs": [
        {
          "output_type": "display_data",
          "data": {
            "image/png": "[encoded data removed]",
            "text/plain": [
              "<Figure size 432x288 with 2 Axes>"
            ]
          },
          "metadata": {
            "tags": [],
            "needs_background": "light"
          }
        }
      ]
    },
    {
      "cell_type": "markdown",
      "metadata": {
        "id": "iuEaOhVoWlpy"
      },
      "source": [
        "## Modelo 2"
      ]
    },
    {
      "cell_type": "code",
      "metadata": {
        "colab": {
          "base_uri": "https://localhost:8080/"
        },
        "id": "lPQdMh80rPCZ",
        "outputId": "d4f2a3d3-4679-422d-d7bb-e41b61232897"
      },
      "source": [
        "from keras.models import Sequential\r\n",
        "from keras.layers import Flatten,Dense,Embedding\r\n",
        "max_features = 20000 \r\n",
        "#maxlen=20000\r\n",
        "model=Sequential()\r\n",
        "model.add(Embedding(max_features,8,input_length=maxlen))\r\n",
        "model.add(Flatten())\r\n",
        "model.add(Dense(1,activation=\"sigmoid\"))\r\n",
        "model.compile(optimizer=\"rmsprop\",loss=\"binary_crossentropy\",metrics=[\"acc\"])\r\n",
        "model.summary()"
      ],
      "execution_count": 27,
      "outputs": [
        {
          "output_type": "stream",
          "text": [
            "Model: \"sequential_5\"\n",
            "_________________________________________________________________\n",
            "Layer (type)                 Output Shape              Param #   \n",
            "=================================================================\n",
            "embedding_5 (Embedding)      (None, 100, 8)            160000    \n",
            "_________________________________________________________________\n",
            "flatten_1 (Flatten)          (None, 800)               0         \n",
            "_________________________________________________________________\n",
            "dense_4 (Dense)              (None, 1)                 801       \n",
            "=================================================================\n",
            "Total params: 160,801\n",
            "Trainable params: 160,801\n",
            "Non-trainable params: 0\n",
            "_________________________________________________________________\n"
          ],
          "name": "stdout"
        }
      ]
    },
    {
      "cell_type": "code",
      "metadata": {
        "colab": {
          "base_uri": "https://localhost:8080/"
        },
        "id": "mfWu9sVnrSBY",
        "outputId": "5b5afc0d-b37a-4b2f-9ad0-be057cab608e"
      },
      "source": [
        "history=model.fit(x_train,y_train,\r\n",
        "                  epochs=10,\r\n",
        "                  batch_size=32,\r\n",
        "                  validation_split=0.2)"
      ],
      "execution_count": 29,
      "outputs": [
        {
          "output_type": "stream",
          "text": [
            "Epoch 1/10\n",
            "1723/1723 [==============================] - 6s 3ms/step - loss: 0.6507 - acc: 0.5943 - val_loss: 0.7373 - val_acc: 0.4880\n",
            "Epoch 2/10\n",
            "1723/1723 [==============================] - 6s 3ms/step - loss: 0.6495 - acc: 0.5972 - val_loss: 0.7424 - val_acc: 0.4891\n",
            "Epoch 3/10\n",
            "1723/1723 [==============================] - 6s 3ms/step - loss: 0.6489 - acc: 0.5989 - val_loss: 0.7450 - val_acc: 0.4904\n",
            "Epoch 4/10\n",
            "1723/1723 [==============================] - 6s 3ms/step - loss: 0.6482 - acc: 0.5990 - val_loss: 0.7487 - val_acc: 0.4916\n",
            "Epoch 5/10\n",
            "1723/1723 [==============================] - 6s 3ms/step - loss: 0.6477 - acc: 0.6011 - val_loss: 0.7538 - val_acc: 0.4853\n",
            "Epoch 6/10\n",
            "1723/1723 [==============================] - 6s 3ms/step - loss: 0.6474 - acc: 0.5998 - val_loss: 0.7559 - val_acc: 0.4877\n",
            "Epoch 7/10\n",
            "1723/1723 [==============================] - 6s 3ms/step - loss: 0.6471 - acc: 0.6013 - val_loss: 0.7593 - val_acc: 0.4916\n",
            "Epoch 8/10\n",
            "1723/1723 [==============================] - 6s 3ms/step - loss: 0.6469 - acc: 0.6009 - val_loss: 0.7612 - val_acc: 0.4913\n",
            "Epoch 9/10\n",
            "1723/1723 [==============================] - 6s 3ms/step - loss: 0.6466 - acc: 0.6026 - val_loss: 0.7635 - val_acc: 0.4936\n",
            "Epoch 10/10\n",
            "1723/1723 [==============================] - 6s 3ms/step - loss: 0.6466 - acc: 0.6034 - val_loss: 0.7688 - val_acc: 0.4896\n"
          ],
          "name": "stdout"
        }
      ]
    },
    {
      "cell_type": "markdown",
      "metadata": {
        "id": "JFzAEvExW3a4"
      },
      "source": [
        "### Accyracy (mean) Modelo 2"
      ]
    },
    {
      "cell_type": "code",
      "metadata": {
        "colab": {
          "base_uri": "https://localhost:8080/"
        },
        "id": "I3oMwMESXEOL",
        "outputId": "ff432caf-a2e4-4284-b411-7fdb55e4d30c"
      },
      "source": [
        "sum(history.history['acc'])/len(history.history['acc'])"
      ],
      "execution_count": 35,
      "outputs": [
        {
          "output_type": "execute_result",
          "data": {
            "text/plain": [
              "0.5998476505279541"
            ]
          },
          "metadata": {
            "tags": []
          },
          "execution_count": 35
        }
      ]
    },
    {
      "cell_type": "code",
      "metadata": {
        "colab": {
          "base_uri": "https://localhost:8080/",
          "height": 545
        },
        "id": "jWosgBxVrUj4",
        "outputId": "0e42a2d2-59d1-4de4-c6af-34e46fede8b7"
      },
      "source": [
        "#Gráficas\r\n",
        "import matplotlib.pyplot as plt\r\n",
        "\r\n",
        "acc = history.history['acc']\r\n",
        "val_acc = history.history['val_acc']\r\n",
        "loss = history.history['loss']\r\n",
        "val_loss = history.history['val_loss']\r\n",
        "\r\n",
        "epochs = range(len(acc))\r\n",
        "\r\n",
        "plt.plot(epochs, acc, 'bo', label='Training acc')\r\n",
        "plt.plot(epochs, val_acc, 'b', label='Validation acc')\r\n",
        "plt.title('Training and validation accuracy')\r\n",
        "plt.legend()\r\n",
        "\r\n",
        "plt.figure()\r\n",
        "\r\n",
        "plt.plot(epochs, loss, 'bo', label='Training loss')\r\n",
        "plt.plot(epochs, val_loss, 'b', label='Validation loss')\r\n",
        "plt.title('Training and validation loss')\r\n",
        "plt.legend()\r\n",
        "\r\n",
        "plt.show()"
      ],
      "execution_count": 43,
      "outputs": [
        {
          "output_type": "display_data",
          "data": {
            "image/png": "[encoded data removed]",
            "text/plain": [
              "<Figure size 432x288 with 1 Axes>"
            ]
          },
          "metadata": {
            "tags": [],
            "needs_background": "light"
          }
        },
        {
          "output_type": "display_data",
          "data": {
            "image/png": "[encoded data removed]",
            "text/plain": [
              "<Figure size 432x288 with 1 Axes>"
            ]
          },
          "metadata": {
            "tags": [],
            "needs_background": "light"
          }
        }
      ]
    },
    {
      "cell_type": "markdown",
      "metadata": {
        "id": "NjxfN7b3YLom"
      },
      "source": [
        "## Modelo 3 (LSTM 1)"
      ]
    },
    {
      "cell_type": "code",
      "metadata": {
        "colab": {
          "base_uri": "https://localhost:8080/"
        },
        "id": "3yM6TKretAW0",
        "outputId": "ebd074ef-269f-46c4-c4e4-507352cf221c"
      },
      "source": [
        "from keras.layers import LSTM\r\n",
        "\r\n",
        "max_features = 20000\r\n",
        "model = Sequential()\r\n",
        "model.add(Embedding(max_features, 32))\r\n",
        "model.add(LSTM(32))\r\n",
        "model.add(Dense(1, activation='sigmoid'))\r\n",
        "\r\n",
        "model.compile(optimizer='rmsprop',\r\n",
        "              loss='binary_crossentropy',\r\n",
        "              metrics=['acc'])\r\n",
        "history = model.fit(x_train, y_train,\r\n",
        "                    epochs=10,\r\n",
        "                    batch_size=128,\r\n",
        "                    validation_split=0.2)"
      ],
      "execution_count": 36,
      "outputs": [
        {
          "output_type": "stream",
          "text": [
            "Epoch 1/10\n",
            "431/431 [==============================] - 5s 12ms/step - loss: 0.6858 - acc: 0.5298 - val_loss: 0.6964 - val_acc: 0.4880\n",
            "Epoch 2/10\n",
            "431/431 [==============================] - 5s 11ms/step - loss: 0.6806 - acc: 0.5407 - val_loss: 0.6993 - val_acc: 0.4874\n",
            "Epoch 3/10\n",
            "431/431 [==============================] - 5s 11ms/step - loss: 0.6775 - acc: 0.5468 - val_loss: 0.7020 - val_acc: 0.4869\n",
            "Epoch 4/10\n",
            "431/431 [==============================] - 5s 11ms/step - loss: 0.6746 - acc: 0.5495 - val_loss: 0.6993 - val_acc: 0.4894\n",
            "Epoch 5/10\n",
            "431/431 [==============================] - 5s 11ms/step - loss: 0.6715 - acc: 0.5578 - val_loss: 0.7046 - val_acc: 0.4892\n",
            "Epoch 6/10\n",
            "431/431 [==============================] - 5s 11ms/step - loss: 0.6689 - acc: 0.5585 - val_loss: 0.7015 - val_acc: 0.4921\n",
            "Epoch 7/10\n",
            "431/431 [==============================] - 5s 11ms/step - loss: 0.6664 - acc: 0.5608 - val_loss: 0.7092 - val_acc: 0.4839\n",
            "Epoch 8/10\n",
            "431/431 [==============================] - 5s 12ms/step - loss: 0.6647 - acc: 0.5637 - val_loss: 0.7027 - val_acc: 0.4975\n",
            "Epoch 9/10\n",
            "431/431 [==============================] - 5s 11ms/step - loss: 0.6633 - acc: 0.5666 - val_loss: 0.7053 - val_acc: 0.4938\n",
            "Epoch 10/10\n",
            "431/431 [==============================] - 5s 11ms/step - loss: 0.6617 - acc: 0.5674 - val_loss: 0.7092 - val_acc: 0.4848\n"
          ],
          "name": "stdout"
        }
      ]
    },
    {
      "cell_type": "markdown",
      "metadata": {
        "id": "bIArRw7uYZHg"
      },
      "source": [
        "### Accuracy Modelo 3 (LSTM 1)"
      ]
    },
    {
      "cell_type": "code",
      "metadata": {
        "colab": {
          "base_uri": "https://localhost:8080/"
        },
        "id": "BxBt-24SYfQh",
        "outputId": "08716047-132f-4a74-c7d1-7a558e810630"
      },
      "source": [
        "sum(history.history['acc'])/len(history.history['acc'])"
      ],
      "execution_count": 37,
      "outputs": [
        {
          "output_type": "execute_result",
          "data": {
            "text/plain": [
              "0.5541678667068481"
            ]
          },
          "metadata": {
            "tags": []
          },
          "execution_count": 37
        }
      ]
    },
    {
      "cell_type": "code",
      "metadata": {
        "id": "4wWC1WOrySZQ"
      },
      "source": [
        ""
      ],
      "execution_count": null,
      "outputs": []
    },
    {
      "cell_type": "markdown",
      "metadata": {
        "id": "qDILLHb3Y-V0"
      },
      "source": [
        "## Modelo 4 (GRU con una capa)"
      ]
    },
    {
      "cell_type": "code",
      "metadata": {
        "id": "RKWyuoBUyJ3e"
      },
      "source": [
        "#funcion para cargar el archivo con los embeddings\r\n",
        "vocab_size=59838 \r\n",
        "from numpy import asarray\r\n",
        "from numpy import zeros\r\n",
        "def load_embedding(filename):\r\n",
        "\t# load embedding into memory, skip first line\r\n",
        "\tfile = open(filename,'r')\r\n",
        "\tlines = file.readlines()\r\n",
        "\tfile.close()\r\n",
        "\t# create a map of words to vectors\r\n",
        "\tembedding = dict()\r\n",
        "\tfor line in lines:\r\n",
        "\t\tparts = line.split()\r\n",
        "\t\t# key is string word, value is numpy array for vector\r\n",
        "\t\tembedding[parts[0]] = asarray(parts[1:], dtype='float32')\r\n",
        "\treturn embedding\r\n",
        "\r\n",
        "#se crea una matriz de pesos a partir de los embeddings\r\n",
        "def get_weight_matrix(embedding, vocab):\r\n",
        "\t# total vocabulary size plus 0 for unknown words\r\n",
        "\tvocab_size = len(vocab) + 1\r\n",
        "\t# define weight matrix dimensions with all 0\r\n",
        "\tweight_matrix = zeros((vocab_size, 100))\r\n",
        "\t# step vocab, store vectors using the Tokenizer's integer mapping\r\n",
        "\tfor word, i in vocab.items():\r\n",
        "\t\tvector = embedding.get(word)\r\n",
        "\t\tif vector is not None:\r\n",
        "\t\t\tweight_matrix[i] = vector\r\n",
        "\treturn weight_matrix"
      ],
      "execution_count": 39,
      "outputs": []
    },
    {
      "cell_type": "code",
      "metadata": {
        "id": "ayWi74DQwl_j"
      },
      "source": [
        "#se carga el archivo con los embeddings\r\n",
        "raw_embedding = load_embedding('/content/gdrive/MyDrive/Proyecto_CD2/glove.twitter.27B.100d.txt')\r\n",
        "#se obtienen los vectores\r\n",
        "embedding_vectors = get_weight_matrix(raw_embedding, tokenizer.word_index)\r\n",
        "#se crea la capa de embeddings\r\n",
        "embedding_layer = Embedding(41599, 100, weights=[embedding_vectors], input_length=max_length, trainable=False)"
      ],
      "execution_count": 40,
      "outputs": []
    },
    {
      "cell_type": "code",
      "metadata": {
        "id": "IsP6HEdrxpbS"
      },
      "source": [
        "#cargando capas\r\n",
        "from keras.layers import LSTM\r\n",
        "from keras.layers import GRU"
      ],
      "execution_count": 41,
      "outputs": []
    },
    {
      "cell_type": "code",
      "metadata": {
        "colab": {
          "base_uri": "https://localhost:8080/"
        },
        "id": "NV9KoGDrxqBt",
        "outputId": "7bd6db67-d629-43da-8f68-28aad66664a7"
      },
      "source": [
        "#modelo GRU 1\r\n",
        "model_lstm = Sequential()\r\n",
        "model_lstm.add(Embedding(max_features, 32))\r\n",
        "model_lstm.add(GRU(128,return_sequences=True))\r\n",
        "model_lstm.add(Dense(10, activation='relu'))\r\n",
        "model_lstm.add(Dense(1, activation='sigmoid')) #capa de salida\r\n",
        "print(model_lstm.summary())"
      ],
      "execution_count": 43,
      "outputs": [
        {
          "output_type": "stream",
          "text": [
            "Model: \"sequential_9\"\n",
            "_________________________________________________________________\n",
            "Layer (type)                 Output Shape              Param #   \n",
            "=================================================================\n",
            "embedding_10 (Embedding)     (None, None, 32)          640000    \n",
            "_________________________________________________________________\n",
            "gru_12 (GRU)                 (None, None, 128)         62208     \n",
            "_________________________________________________________________\n",
            "dense_8 (Dense)              (None, None, 10)          1290      \n",
            "_________________________________________________________________\n",
            "dense_9 (Dense)              (None, None, 1)           11        \n",
            "=================================================================\n",
            "Total params: 703,509\n",
            "Trainable params: 703,509\n",
            "Non-trainable params: 0\n",
            "_________________________________________________________________\n",
            "None\n"
          ],
          "name": "stdout"
        }
      ]
    },
    {
      "cell_type": "code",
      "metadata": {
        "colab": {
          "base_uri": "https://localhost:8080/"
        },
        "id": "tc1-IBD81Vsq",
        "outputId": "01342281-00f2-4ccd-d73a-af1da5c16eac"
      },
      "source": [
        "#se compila el modelo lstm\r\n",
        "model_lstm.compile(loss='binary_crossentropy', optimizer='adam', metrics=['accuracy']) #cambiar a categorica\r\n",
        "history_lstm = model_lstm.fit(x_train, y_train,  epochs=10, \r\n",
        "                    validation_data=[x_test, y_test],\r\n",
        "                    batch_size=128,\r\n",
        "                    validation_split=0.2) "
      ],
      "execution_count": 45,
      "outputs": [
        {
          "output_type": "stream",
          "text": [
            "Epoch 1/10\n",
            "431/431 [==============================] - 8s 19ms/step - loss: 0.6880 - accuracy: 0.5269 - val_loss: 0.6950 - val_accuracy: 0.4983\n",
            "Epoch 2/10\n",
            "431/431 [==============================] - 8s 17ms/step - loss: 0.6872 - accuracy: 0.5281 - val_loss: 0.6956 - val_accuracy: 0.4981\n",
            "Epoch 3/10\n",
            "431/431 [==============================] - 7s 17ms/step - loss: 0.6866 - accuracy: 0.5288 - val_loss: 0.6964 - val_accuracy: 0.4976\n",
            "Epoch 4/10\n",
            "431/431 [==============================] - 7s 17ms/step - loss: 0.6862 - accuracy: 0.5292 - val_loss: 0.6950 - val_accuracy: 0.4974\n",
            "Epoch 5/10\n",
            "431/431 [==============================] - 7s 17ms/step - loss: 0.6860 - accuracy: 0.5297 - val_loss: 0.6960 - val_accuracy: 0.4977\n",
            "Epoch 6/10\n",
            "431/431 [==============================] - 7s 17ms/step - loss: 0.6856 - accuracy: 0.5303 - val_loss: 0.6964 - val_accuracy: 0.4975\n",
            "Epoch 7/10\n",
            "431/431 [==============================] - 7s 17ms/step - loss: 0.6853 - accuracy: 0.5304 - val_loss: 0.6971 - val_accuracy: 0.4973\n",
            "Epoch 8/10\n",
            "431/431 [==============================] - 8s 17ms/step - loss: 0.6849 - accuracy: 0.5309 - val_loss: 0.6984 - val_accuracy: 0.4971\n",
            "Epoch 9/10\n",
            "431/431 [==============================] - 7s 17ms/step - loss: 0.6847 - accuracy: 0.5313 - val_loss: 0.6981 - val_accuracy: 0.4967\n",
            "Epoch 10/10\n",
            "431/431 [==============================] - 7s 17ms/step - loss: 0.6844 - accuracy: 0.5316 - val_loss: 0.6999 - val_accuracy: 0.4971\n"
          ],
          "name": "stdout"
        }
      ]
    },
    {
      "cell_type": "markdown",
      "metadata": {
        "id": "yjOFvy4qZlCp"
      },
      "source": [
        "### Accuracy Modelo 4 (GRU 1)"
      ]
    },
    {
      "cell_type": "code",
      "metadata": {
        "colab": {
          "base_uri": "https://localhost:8080/"
        },
        "id": "nw1F1qFMR1Kl",
        "outputId": "23a7c091-fcaa-4572-974c-25243a9a7df5"
      },
      "source": [
        "sum(history.history['acc'])/len(history.history['acc'])"
      ],
      "execution_count": 46,
      "outputs": [
        {
          "output_type": "execute_result",
          "data": {
            "text/plain": [
              "0.5541678667068481"
            ]
          },
          "metadata": {
            "tags": []
          },
          "execution_count": 46
        }
      ]
    },
    {
      "cell_type": "markdown",
      "metadata": {
        "id": "OQRwgUgrZ5S3"
      },
      "source": [
        "## Modelo 5 (GRU paper)"
      ]
    },
    {
      "cell_type": "code",
      "metadata": {
        "colab": {
          "base_uri": "https://localhost:8080/"
        },
        "id": "5dXICVl_R1IC",
        "outputId": "0a33c55a-abb9-4eaa-be45-d5dc1156959a"
      },
      "source": [
        "#modelo GRU\r\n",
        "from keras.layers import Dropout\r\n",
        "model_lstm = Sequential()\r\n",
        "model_lstm.add(Embedding(max_features, 32))\r\n",
        "model_lstm.add(GRU(128,return_sequences=True))\r\n",
        "model_lstm.add(GRU(128,return_sequences=True))\r\n",
        "model_lstm.add(GRU(128,return_sequences=True))\r\n",
        "model_lstm.add(Dropout(0.3))\r\n",
        "model_lstm.add(Dense(1, activation='sigmoid')) #capa de salida\r\n",
        "print(model_lstm.summary())"
      ],
      "execution_count": 25,
      "outputs": [
        {
          "output_type": "stream",
          "text": [
            "Model: \"sequential_4\"\n",
            "_________________________________________________________________\n",
            "Layer (type)                 Output Shape              Param #   \n",
            "=================================================================\n",
            "embedding_4 (Embedding)      (None, None, 32)          640000    \n",
            "_________________________________________________________________\n",
            "gru_9 (GRU)                  (None, None, 128)         62208     \n",
            "_________________________________________________________________\n",
            "gru_10 (GRU)                 (None, None, 128)         99072     \n",
            "_________________________________________________________________\n",
            "gru_11 (GRU)                 (None, None, 128)         99072     \n",
            "_________________________________________________________________\n",
            "dropout (Dropout)            (None, None, 128)         0         \n",
            "_________________________________________________________________\n",
            "dense_3 (Dense)              (None, None, 1)           129       \n",
            "=================================================================\n",
            "Total params: 900,481\n",
            "Trainable params: 900,481\n",
            "Non-trainable params: 0\n",
            "_________________________________________________________________\n",
            "None\n"
          ],
          "name": "stdout"
        }
      ]
    },
    {
      "cell_type": "code",
      "metadata": {
        "colab": {
          "base_uri": "https://localhost:8080/"
        },
        "id": "B9fP7ux1R09D",
        "outputId": "bfa52679-6de8-4f2b-ca86-33bf843084ce"
      },
      "source": [
        "#se compila el modelo lstm\r\n",
        "model_lstm.compile(loss='binary_crossentropy', optimizer='adam', metrics=['accuracy']) #cambiar a categorica\r\n",
        "history_lstm = model_lstm.fit(x_train, y_train,  epochs=50, \r\n",
        "                    validation_data=[x_test, y_test],\r\n",
        "                    batch_size=128,\r\n",
        "                    validation_split=0.2)"
      ],
      "execution_count": 47,
      "outputs": [
        {
          "output_type": "stream",
          "text": [
            "Epoch 1/50\n",
            "431/431 [==============================] - 8s 18ms/step - loss: 0.6841 - accuracy: 0.5317 - val_loss: 0.6994 - val_accuracy: 0.4971\n",
            "Epoch 2/50\n",
            "431/431 [==============================] - 7s 17ms/step - loss: 0.6839 - accuracy: 0.5321 - val_loss: 0.6997 - val_accuracy: 0.4968\n",
            "Epoch 3/50\n",
            "431/431 [==============================] - 7s 17ms/step - loss: 0.6837 - accuracy: 0.5323 - val_loss: 0.6994 - val_accuracy: 0.4972\n",
            "Epoch 4/50\n",
            "431/431 [==============================] - 7s 17ms/step - loss: 0.6835 - accuracy: 0.5326 - val_loss: 0.7006 - val_accuracy: 0.4967\n",
            "Epoch 5/50\n",
            "431/431 [==============================] - 7s 17ms/step - loss: 0.6833 - accuracy: 0.5328 - val_loss: 0.7010 - val_accuracy: 0.4975\n",
            "Epoch 6/50\n",
            "431/431 [==============================] - 7s 17ms/step - loss: 0.6830 - accuracy: 0.5333 - val_loss: 0.7000 - val_accuracy: 0.4964\n",
            "Epoch 7/50\n",
            "431/431 [==============================] - 7s 17ms/step - loss: 0.6829 - accuracy: 0.5335 - val_loss: 0.7053 - val_accuracy: 0.4981\n",
            "Epoch 8/50\n",
            "431/431 [==============================] - 7s 17ms/step - loss: 0.6828 - accuracy: 0.5335 - val_loss: 0.7002 - val_accuracy: 0.4973\n",
            "Epoch 9/50\n",
            "431/431 [==============================] - 7s 17ms/step - loss: 0.6825 - accuracy: 0.5339 - val_loss: 0.7016 - val_accuracy: 0.4976\n",
            "Epoch 10/50\n",
            "431/431 [==============================] - 7s 17ms/step - loss: 0.6823 - accuracy: 0.5335 - val_loss: 0.7035 - val_accuracy: 0.4976\n",
            "Epoch 11/50\n",
            "431/431 [==============================] - 7s 17ms/step - loss: 0.6821 - accuracy: 0.5343 - val_loss: 0.7039 - val_accuracy: 0.4976\n",
            "Epoch 12/50\n",
            "431/431 [==============================] - 7s 17ms/step - loss: 0.6818 - accuracy: 0.5345 - val_loss: 0.7019 - val_accuracy: 0.4974\n",
            "Epoch 13/50\n",
            "431/431 [==============================] - 8s 18ms/step - loss: 0.6817 - accuracy: 0.5348 - val_loss: 0.7049 - val_accuracy: 0.4974\n",
            "Epoch 14/50\n",
            "431/431 [==============================] - 8s 18ms/step - loss: 0.6814 - accuracy: 0.5351 - val_loss: 0.7029 - val_accuracy: 0.4974\n",
            "Epoch 15/50\n",
            "431/431 [==============================] - 7s 17ms/step - loss: 0.6812 - accuracy: 0.5351 - val_loss: 0.7020 - val_accuracy: 0.4978\n",
            "Epoch 16/50\n",
            "431/431 [==============================] - 7s 17ms/step - loss: 0.6809 - accuracy: 0.5358 - val_loss: 0.7056 - val_accuracy: 0.4979\n",
            "Epoch 17/50\n",
            "431/431 [==============================] - 7s 17ms/step - loss: 0.6806 - accuracy: 0.5359 - val_loss: 0.7077 - val_accuracy: 0.4977\n",
            "Epoch 18/50\n",
            "431/431 [==============================] - 7s 17ms/step - loss: 0.6805 - accuracy: 0.5359 - val_loss: 0.7048 - val_accuracy: 0.4984\n",
            "Epoch 19/50\n",
            "431/431 [==============================] - 7s 17ms/step - loss: 0.6801 - accuracy: 0.5362 - val_loss: 0.7066 - val_accuracy: 0.4982\n",
            "Epoch 20/50\n",
            "431/431 [==============================] - 7s 17ms/step - loss: 0.6798 - accuracy: 0.5367 - val_loss: 0.7070 - val_accuracy: 0.4976\n",
            "Epoch 21/50\n",
            "431/431 [==============================] - 7s 17ms/step - loss: 0.6795 - accuracy: 0.5371 - val_loss: 0.7045 - val_accuracy: 0.4984\n",
            "Epoch 22/50\n",
            "431/431 [==============================] - 7s 17ms/step - loss: 0.6793 - accuracy: 0.5373 - val_loss: 0.7075 - val_accuracy: 0.4981\n",
            "Epoch 23/50\n",
            "431/431 [==============================] - 8s 17ms/step - loss: 0.6790 - accuracy: 0.5376 - val_loss: 0.7099 - val_accuracy: 0.4980\n",
            "Epoch 24/50\n",
            "431/431 [==============================] - 7s 17ms/step - loss: 0.6785 - accuracy: 0.5381 - val_loss: 0.7067 - val_accuracy: 0.4981\n",
            "Epoch 25/50\n",
            "431/431 [==============================] - 7s 17ms/step - loss: 0.6783 - accuracy: 0.5385 - val_loss: 0.7090 - val_accuracy: 0.4980\n",
            "Epoch 26/50\n",
            "431/431 [==============================] - 7s 17ms/step - loss: 0.6781 - accuracy: 0.5385 - val_loss: 0.7128 - val_accuracy: 0.4981\n",
            "Epoch 27/50\n",
            "431/431 [==============================] - 7s 17ms/step - loss: 0.6778 - accuracy: 0.5388 - val_loss: 0.7112 - val_accuracy: 0.4982\n",
            "Epoch 28/50\n",
            "431/431 [==============================] - 7s 17ms/step - loss: 0.6772 - accuracy: 0.5395 - val_loss: 0.7141 - val_accuracy: 0.4979\n",
            "Epoch 29/50\n",
            "431/431 [==============================] - 7s 17ms/step - loss: 0.6770 - accuracy: 0.5398 - val_loss: 0.7161 - val_accuracy: 0.4977\n",
            "Epoch 30/50\n",
            "431/431 [==============================] - 7s 17ms/step - loss: 0.6766 - accuracy: 0.5401 - val_loss: 0.7160 - val_accuracy: 0.4975\n",
            "Epoch 31/50\n",
            "431/431 [==============================] - 7s 17ms/step - loss: 0.6764 - accuracy: 0.5402 - val_loss: 0.7166 - val_accuracy: 0.4977\n",
            "Epoch 32/50\n",
            "431/431 [==============================] - 8s 17ms/step - loss: 0.6760 - accuracy: 0.5407 - val_loss: 0.7136 - val_accuracy: 0.4978\n",
            "Epoch 33/50\n",
            "431/431 [==============================] - 7s 17ms/step - loss: 0.6756 - accuracy: 0.5412 - val_loss: 0.7156 - val_accuracy: 0.4977\n",
            "Epoch 34/50\n",
            "431/431 [==============================] - 7s 17ms/step - loss: 0.6752 - accuracy: 0.5413 - val_loss: 0.7163 - val_accuracy: 0.4975\n",
            "Epoch 35/50\n",
            "431/431 [==============================] - 7s 17ms/step - loss: 0.6749 - accuracy: 0.5417 - val_loss: 0.7180 - val_accuracy: 0.4977\n",
            "Epoch 36/50\n",
            "431/431 [==============================] - 7s 17ms/step - loss: 0.6745 - accuracy: 0.5421 - val_loss: 0.7156 - val_accuracy: 0.4974\n",
            "Epoch 37/50\n",
            "431/431 [==============================] - 7s 17ms/step - loss: 0.6741 - accuracy: 0.5424 - val_loss: 0.7141 - val_accuracy: 0.4976\n",
            "Epoch 38/50\n",
            "431/431 [==============================] - 7s 17ms/step - loss: 0.6737 - accuracy: 0.5427 - val_loss: 0.7174 - val_accuracy: 0.4981\n",
            "Epoch 39/50\n",
            "431/431 [==============================] - 7s 17ms/step - loss: 0.6733 - accuracy: 0.5430 - val_loss: 0.7211 - val_accuracy: 0.4973\n",
            "Epoch 40/50\n",
            "431/431 [==============================] - 7s 17ms/step - loss: 0.6728 - accuracy: 0.5436 - val_loss: 0.7187 - val_accuracy: 0.4973\n",
            "Epoch 41/50\n",
            "431/431 [==============================] - 7s 17ms/step - loss: 0.6725 - accuracy: 0.5437 - val_loss: 0.7179 - val_accuracy: 0.4976\n",
            "Epoch 42/50\n",
            "431/431 [==============================] - 7s 17ms/step - loss: 0.6722 - accuracy: 0.5440 - val_loss: 0.7228 - val_accuracy: 0.4982\n",
            "Epoch 43/50\n",
            "431/431 [==============================] - 7s 17ms/step - loss: 0.6717 - accuracy: 0.5445 - val_loss: 0.7209 - val_accuracy: 0.4980\n",
            "Epoch 44/50\n",
            "431/431 [==============================] - 7s 17ms/step - loss: 0.6715 - accuracy: 0.5445 - val_loss: 0.7201 - val_accuracy: 0.4971\n",
            "Epoch 45/50\n",
            "431/431 [==============================] - 7s 17ms/step - loss: 0.6710 - accuracy: 0.5448 - val_loss: 0.7242 - val_accuracy: 0.4976\n",
            "Epoch 46/50\n",
            "431/431 [==============================] - 7s 17ms/step - loss: 0.6709 - accuracy: 0.5449 - val_loss: 0.7208 - val_accuracy: 0.4973\n",
            "Epoch 47/50\n",
            "431/431 [==============================] - 7s 17ms/step - loss: 0.6705 - accuracy: 0.5452 - val_loss: 0.7303 - val_accuracy: 0.4976\n",
            "Epoch 48/50\n",
            "431/431 [==============================] - 7s 17ms/step - loss: 0.6706 - accuracy: 0.5453 - val_loss: 0.7208 - val_accuracy: 0.4972\n",
            "Epoch 49/50\n",
            "431/431 [==============================] - 7s 17ms/step - loss: 0.6704 - accuracy: 0.5457 - val_loss: 0.7265 - val_accuracy: 0.4976\n",
            "Epoch 50/50\n",
            "431/431 [==============================] - 7s 17ms/step - loss: 0.6693 - accuracy: 0.5463 - val_loss: 0.7330 - val_accuracy: 0.4975\n"
          ],
          "name": "stdout"
        }
      ]
    },
    {
      "cell_type": "markdown",
      "metadata": {
        "id": "CDl1d4UTaHyH"
      },
      "source": [
        "### Accuracy Modelo 5 (GRU paper)"
      ]
    },
    {
      "cell_type": "code",
      "metadata": {
        "colab": {
          "base_uri": "https://localhost:8080/"
        },
        "id": "XS0a2rqxaGiR",
        "outputId": "436b046f-cf88-406c-858b-a5aef7eb0c70"
      },
      "source": [
        "sum(history.history['acc'])/len(history.history['acc'])"
      ],
      "execution_count": 48,
      "outputs": [
        {
          "output_type": "execute_result",
          "data": {
            "text/plain": [
              "0.5541678667068481"
            ]
          },
          "metadata": {
            "tags": []
          },
          "execution_count": 48
        }
      ]
    }
  ]
}