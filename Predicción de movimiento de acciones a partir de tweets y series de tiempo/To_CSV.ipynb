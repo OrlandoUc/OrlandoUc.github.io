{
  "nbformat": 4,
  "nbformat_minor": 0,
  "metadata": {
    "colab": {
      "name": "To_CSV.ipynb",
      "provenance": [],
      "collapsed_sections": []
    },
    "kernelspec": {
      "name": "python3",
      "display_name": "Python 3"
    }
  },
  "cells": [
    {
      "cell_type": "markdown",
      "metadata": {
        "id": "4PVSd8BLOaRl"
      },
      "source": [
        "# <center>1) Clasificador<center>\r\n",
        "### <center>Uc Kantun Orlando de Jesus, Cortés Montes Enrique Eduardo <center>\r\n",
        "#### <center>Stock Movement Prediction from Tweets and Historical Prices<center>"
      ]
    },
    {
      "cell_type": "markdown",
      "metadata": {
        "id": "RCEXfy1rcs_f"
      },
      "source": [
        "Este programa clasifica los precios de las companias con un target (y) que es binario, es decir, va a tomar el valor de cero si la accion baja, y uno si sube."
      ]
    },
    {
      "cell_type": "code",
      "metadata": {
        "colab": {
          "base_uri": "https://localhost:8080/"
        },
        "id": "2-qtnIUsoR05",
        "outputId": "ad861af9-5701-4bc8-ebf4-53368f4b6b9b"
      },
      "source": [
        "from google.colab import drive\r\n",
        "drive.mount(\"/content/gdrive\")"
      ],
      "execution_count": null,
      "outputs": [
        {
          "output_type": "stream",
          "text": [
            "Mounted at /content/gdrive\n"
          ],
          "name": "stdout"
        }
      ]
    },
    {
      "cell_type": "code",
      "metadata": {
        "id": "SV-D954aoila"
      },
      "source": [
        "# Se cargan las tablas\r\n",
        "import pandas as pd\r\n",
        "import numpy as np\r\n",
        "import csv"
      ],
      "execution_count": null,
      "outputs": []
    },
    {
      "cell_type": "code",
      "metadata": {
        "id": "1n2xO9xNvRxI"
      },
      "source": [
        "# path\r\n",
        "direction=\"gdrive/MyDrive/Proyecto_Final_CD2/stocknet-dataset-master/price/preprocessed/\"\r\n",
        "columnas=[\"Date\",\"Open\",\"High\",\"Low\",\"Close\",\"AdjClose\",\"Volume\"]"
      ],
      "execution_count": null,
      "outputs": []
    },
    {
      "cell_type": "code",
      "metadata": {
        "id": "HZoPdBZfosw5"
      },
      "source": [
        "# Nombre de las tablas\r\n",
        "import os\r\n",
        "tables=[] # Companhias\r\n",
        "for j in os.listdir(direction):\r\n",
        "  tables.append(os.path.splitext(j)[0]) "
      ],
      "execution_count": null,
      "outputs": []
    },
    {
      "cell_type": "code",
      "metadata": {
        "id": "2m8JuTUHNYPH"
      },
      "source": [
        "# Función que pone los targets dependiendo si la accion subio o no\r\n",
        "def flag(data,w):\r\n",
        "  df_1=data.sort_values(by=\"Date\",ascending=True)\r\n",
        "  df_1=df_1.drop(columns=[\"Open\",\"High\",\"Low\",\"Close\",\"Volume\"])\r\n",
        "  n=df_1.shape[0]\r\n",
        "  y=[]\r\n",
        "  Company=[]\r\n",
        "  y.append(\"-\")\r\n",
        "  Company.append(\"-\")\r\n",
        "  for i in range(n-1):\r\n",
        "    z=df_1.iloc[i+1,1]-df_1.iloc[i,1]\r\n",
        "    Company.append(w)\r\n",
        "    if (z>0):\r\n",
        "      y.append(1)\r\n",
        "    else:\r\n",
        "      y.append(0)\r\n",
        "  df_1=df_1.drop(columns=[\"AdjClose\"])\r\n",
        "  df_1[\"y\"]=y\r\n",
        "  df_1[\"Company\"]=Company\r\n",
        "  df_1=df_1[[\"Date\",\"Company\",\"y\"]]\r\n",
        "  return df_1\r\n",
        "  "
      ],
      "execution_count": null,
      "outputs": []
    },
    {
      "cell_type": "code",
      "metadata": {
        "id": "YMNSpqzNosmd"
      },
      "source": [
        "# Funcion que guarda cada tabla de los precios con sus respectivos targets\r\n",
        "# y fechas en un .csv\r\n",
        "direction_CSV=\"/content/gdrive/MyDrive/Proyecto_Final_CD2/stocknet-dataset-master/price/CSV/\"\r\n",
        "for i in tables:\r\n",
        "    k=direction+\"{}\".format(i)+\"{}\".format(\".txt\")\r\n",
        "    df=pd.read_csv(k,sep='\\t',names=columnas)\r\n",
        "    df=flag(df,i)\r\n",
        "    df.to_csv(direction_CSV+'{}_y.csv'.format(i))"
      ],
      "execution_count": null,
      "outputs": []
    },
    {
      "cell_type": "markdown",
      "metadata": {
        "id": "AqDrfI3KYxuu"
      },
      "source": [
        "****"
      ]
    },
    {
      "cell_type": "code",
      "metadata": {
        "id": "Ax30bdWmTTyj"
      },
      "source": [
        "# Uniendo todas las tablas en una sola para usarla posteriormente\r\n",
        "import os, glob\r\n",
        "import pandas as pd\r\n",
        "mydir = \"/content/gdrive/MyDrive/Proyecto_Final_CD2/stocknet-dataset-master/price/CSV/\"\r\n",
        "all_files = glob.glob(os.path.join(mydir, \"*.csv\"))\r\n",
        "df_from_each_file = (pd.read_csv(f, sep=',') for f in all_files)\r\n",
        "df_merged   = pd.concat(df_from_each_file, ignore_index=True)\r\n",
        "df_merged.to_csv( mydir+\"merged.csv\")"
      ],
      "execution_count": null,
      "outputs": []
    }
  ]
}